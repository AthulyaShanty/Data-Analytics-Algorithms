{
 "cells": [
  {
   "cell_type": "code",
   "execution_count": 1,
   "metadata": {},
   "outputs": [],
   "source": [
    "\n",
    "import pickle\n",
    "import numpy as np\n",
    "from sklearn.metrics import accuracy_score\n",
    "from sklearn.linear_model import LogisticRegression"
   ]
  },
  {
   "cell_type": "code",
   "execution_count": 2,
   "metadata": {},
   "outputs": [],
   "source": [
    "# Load the features\n",
    "with open('features.pkl', 'rb') as f:\n",
    "    features = pickle.load(f)\n",
    "\n",
    "# Load the target\n",
    "with open('target.pkl', 'rb') as f:\n",
    "    target = pickle.load(f)\n",
    "\n",
    "# Load the test features\n",
    "with open('test_features.pkl', 'rb') as f:\n",
    "    test_features = pickle.load(f)\n",
    "\n",
    "# Load the test target\n",
    "with open('test_target.pkl', 'rb') as f:\n",
    "    test_target = pickle.load(f)\n",
    "\n",
    "# Load the validation features\n",
    "with open('validation_features.pkl', 'rb') as f:\n",
    "    validation_features = pickle.load(f)\n",
    "\n",
    "# Load the validation target\n",
    "with open('validation_target.pkl', 'rb') as f:\n",
    "    validation_target = pickle.load(f)\n",
    "    "
   ]
  },
  {
   "cell_type": "code",
   "execution_count": 3,
   "metadata": {},
   "outputs": [],
   "source": [
    "#Created a function calculate_rmse_and_predict() to calculate the rmse value and predict the target values\n",
    "def calculate_rmse_and_predict(model, features, actual):\n",
    "    predicted = model.predict(features)\n",
    "    residuals = actual - predicted\n",
    "    rmse = np.sqrt(np.mean(residuals**2))\n",
    "    return rmse, predicted"
   ]
  },
  {
   "cell_type": "code",
   "execution_count": 4,
   "metadata": {},
   "outputs": [],
   "source": [
    "#Created a function train_and_evaluate_logistic_regression() for logistic regression model\n",
    "def train_and_evaluate_logistic_regression(features, target, test_features, test_target):\n",
    "    log_reg_clf = LogisticRegression(random_state=42, max_iter=1000)\n",
    "    log_reg_clf.fit(features, target)\n",
    "    log_reg_test_predictions = log_reg_clf.predict(test_features)\n",
    "    log_reg_test_accuracy = accuracy_score(test_target, log_reg_test_predictions)\n",
    "    print(f\"Logistic Regression Test Accuracy: {log_reg_test_accuracy}\")\n",
    "    return log_reg_clf, log_reg_test_accuracy"
   ]
  },
  {
   "cell_type": "code",
   "execution_count": 5,
   "metadata": {},
   "outputs": [
    {
     "name": "stdout",
     "output_type": "stream",
     "text": [
      "Logistic Regression Test Accuracy: 0.7095674026207144\n"
     ]
    }
   ],
   "source": [
    "log_reg_clf, log_reg_test_accuracy = train_and_evaluate_logistic_regression(features, target, test_features, test_target)"
   ]
  },
  {
   "cell_type": "code",
   "execution_count": 6,
   "metadata": {},
   "outputs": [
    {
     "name": "stdout",
     "output_type": "stream",
     "text": [
      "Logistic Regression RMSE on test data: 0.5389179876189749\n",
      "Logistic Regression RMSE on validation data: 0.5342105920462471\n"
     ]
    }
   ],
   "source": [
    "# Calculate RMSE and predictions for test data\n",
    "log_reg_rmse_test, log_reg_test_predictions = calculate_rmse_and_predict(log_reg_clf, test_features, test_target)\n",
    "print(f\"Logistic Regression RMSE on test data: {log_reg_rmse_test}\")\n",
    "\n",
    "# Calculate RMSE and predictions for validation data\n",
    "log_reg_rmse_validation, log_reg_validation_predictions = calculate_rmse_and_predict(log_reg_clf, validation_features, validation_target)\n",
    "print(f\"Logistic Regression RMSE on validation data: {log_reg_rmse_validation}\")"
   ]
  },
  {
   "cell_type": "code",
   "execution_count": 7,
   "metadata": {},
   "outputs": [],
   "source": [
    "model_results = {}\n",
    "\n",
    "# Save the accuracy, RMSE on test data, and RMSE on validation data as a pickle file\n",
    "model_results['Logistic Regression'] = {\n",
    "    'Accuracy': log_reg_test_accuracy,\n",
    "    'RMSE (test set)': log_reg_rmse_test,\n",
    "    'RMSE (Val set)': log_reg_rmse_validation\n",
    "}\n",
    "\n",
    "with open('model_results.pkl', 'wb') as f:\n",
    "    pickle.dump(model_results, f)\n"
   ]
  }
 ],
 "metadata": {
  "kernelspec": {
   "display_name": ".venv",
   "language": "python",
   "name": "python3"
  },
  "language_info": {
   "codemirror_mode": {
    "name": "ipython",
    "version": 3
   },
   "file_extension": ".py",
   "mimetype": "text/x-python",
   "name": "python",
   "nbconvert_exporter": "python",
   "pygments_lexer": "ipython3",
   "version": "3.12.6"
  }
 },
 "nbformat": 4,
 "nbformat_minor": 2
}
