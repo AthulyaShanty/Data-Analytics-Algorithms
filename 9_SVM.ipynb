{
 "cells": [
  {
   "cell_type": "code",
   "execution_count": 1,
   "metadata": {},
   "outputs": [],
   "source": [
    "import pickle\n",
    "import numpy as np\n",
    "from sklearn.metrics import accuracy_score\n",
    "from sklearn.svm import SVC\n",
    "from sklearn.model_selection import cross_val_score"
   ]
  },
  {
   "cell_type": "code",
   "execution_count": 2,
   "metadata": {},
   "outputs": [],
   "source": [
    "# Load the features\n",
    "with open('features.pkl', 'rb') as f:\n",
    "    features = pickle.load(f)\n",
    "\n",
    "# Load the target\n",
    "with open('target.pkl', 'rb') as f:\n",
    "    target = pickle.load(f)\n",
    "\n",
    "# Load the test features\n",
    "with open('test_features.pkl', 'rb') as f:\n",
    "    test_features = pickle.load(f)\n",
    "\n",
    "# Load the test target\n",
    "with open('test_target.pkl', 'rb') as f:\n",
    "    test_target = pickle.load(f)\n",
    "\n",
    "# Load the validation features\n",
    "with open('validation_features.pkl', 'rb') as f:\n",
    "    validation_features = pickle.load(f)\n",
    "\n",
    "# Load the validation target\n",
    "with open('validation_target.pkl', 'rb') as f:\n",
    "    validation_target = pickle.load(f)"
   ]
  },
  {
   "cell_type": "code",
   "execution_count": 3,
   "metadata": {},
   "outputs": [],
   "source": [
    "def calculate_rmse_and_predict(model, features, actual):\n",
    "    predicted = model.predict(features)\n",
    "    residuals = actual - predicted\n",
    "    rmse = np.sqrt(np.mean(residuals**2))\n",
    "    return rmse, predicted"
   ]
  },
  {
   "cell_type": "code",
   "execution_count": 4,
   "metadata": {},
   "outputs": [],
   "source": [
    "def train_and_evaluate_svm(features, target, test_features, test_target, validation_features, validation_target, kernel='linear'):\n",
    "    # Initialize the SVM Classifier with the specified kernel\n",
    "    svm_clf = SVC(kernel=kernel, random_state=42)\n",
    "\n",
    "    # Train the classifier\n",
    "    svm_clf.fit(features, target)\n",
    "\n",
    "    # Predict on the test data\n",
    "    svm_test_predictions = svm_clf.predict(test_features)\n",
    "\n",
    "    # Calculate the accuracy\n",
    "    svm_test_accuracy = accuracy_score(test_target, svm_test_predictions)\n",
    "    print(f\"{kernel.capitalize()} SVM Test Accuracy: {svm_test_accuracy}\")\n",
    "\n",
    "    # Calculate RMSE and predictions for test data\n",
    "    svm_rmse_test, svm_test_predictions = calculate_rmse_and_predict(svm_clf, test_features, test_target)\n",
    "    print(f\"{kernel.capitalize()} SVM RMSE on test data: {svm_rmse_test}\")\n",
    "\n",
    "    # Calculate RMSE and predictions for validation data\n",
    "    svm_rmse_validation, svm_validation_predicts = calculate_rmse_and_predict(svm_clf, validation_features, validation_target)\n",
    "    print(f\"{kernel.capitalize()} SVM RMSE on validation data: {svm_rmse_validation}\")\n",
    "\n",
    "    # Save the results in a dictionary\n",
    "    results= {\n",
    "        'Accuracy': svm_test_accuracy,\n",
    "        'RMSE (test set)': svm_rmse_test,\n",
    "        'RMSE (Val set)': svm_rmse_validation,\n",
    "    }\n",
    "    return results"
   ]
  },
  {
   "cell_type": "code",
   "execution_count": 5,
   "metadata": {},
   "outputs": [],
   "source": [
    "with open('model_results.pkl', 'rb') as f:\n",
    "    model_results = pickle.load(f)"
   ]
  },
  {
   "cell_type": "code",
   "execution_count": 6,
   "metadata": {},
   "outputs": [
    {
     "name": "stdout",
     "output_type": "stream",
     "text": [
      "Linear SVM Test Accuracy: 0.7155806856937713\n",
      "Linear SVM RMSE on test data: 0.5333097733083735\n",
      "Linear SVM RMSE on validation data: 0.5309246665258843\n"
     ]
    }
   ],
   "source": [
    "# linear kernel\n",
    "model_results['Linear SVM']=train_and_evaluate_svm(features, target, test_features, test_target, validation_features, validation_target, kernel='linear')"
   ]
  },
  {
   "cell_type": "code",
   "execution_count": 7,
   "metadata": {},
   "outputs": [
    {
     "name": "stdout",
     "output_type": "stream",
     "text": [
      "Rbf SVM Test Accuracy: 0.7145036797702388\n",
      "Rbf SVM RMSE on test data: 0.5343185568832148\n",
      "Rbf SVM RMSE on validation data: 0.5320222300197756\n"
     ]
    }
   ],
   "source": [
    "# rbf kernel\n",
    "model_results['RBF SVM']=train_and_evaluate_svm(features, target, test_features, test_target, validation_features, validation_target, kernel='rbf')"
   ]
  },
  {
   "cell_type": "code",
   "execution_count": 8,
   "metadata": {},
   "outputs": [],
   "source": [
    "# Save updated model results\n",
    "with open('model_results.pkl', 'wb') as f:\n",
    "    pickle.dump(model_results, f)"
   ]
  }
 ],
 "metadata": {
  "kernelspec": {
   "display_name": ".venv",
   "language": "python",
   "name": "python3"
  },
  "language_info": {
   "codemirror_mode": {
    "name": "ipython",
    "version": 3
   },
   "file_extension": ".py",
   "mimetype": "text/x-python",
   "name": "python",
   "nbconvert_exporter": "python",
   "pygments_lexer": "ipython3",
   "version": "3.12.6"
  }
 },
 "nbformat": 4,
 "nbformat_minor": 2
}
