{
 "cells": [
  {
   "cell_type": "code",
   "execution_count": 1,
   "metadata": {},
   "outputs": [],
   "source": [
    "\n",
    "import pickle\n",
    "import numpy as np\n",
    "from sklearn.metrics import accuracy_score\n",
    "from sklearn.ensemble import RandomForestClassifier"
   ]
  },
  {
   "cell_type": "code",
   "execution_count": 2,
   "metadata": {},
   "outputs": [],
   "source": [
    "# Load the features\n",
    "with open('features.pkl', 'rb') as f:\n",
    "    features = pickle.load(f)\n",
    "\n",
    "# Load the target\n",
    "with open('target.pkl', 'rb') as f:\n",
    "    target = pickle.load(f)\n",
    "\n",
    "# Load the test features\n",
    "with open('test_features.pkl', 'rb') as f:\n",
    "    test_features = pickle.load(f)\n",
    "\n",
    "# Load the test target\n",
    "with open('test_target.pkl', 'rb') as f:\n",
    "    test_target = pickle.load(f)\n",
    "\n",
    "# Load the validation features\n",
    "with open('validation_features.pkl', 'rb') as f:\n",
    "    validation_features = pickle.load(f)\n",
    "\n",
    "# Load the validation target\n",
    "with open('validation_target.pkl', 'rb') as f:\n",
    "    validation_target = pickle.load(f)"
   ]
  },
  {
   "cell_type": "code",
   "execution_count": 3,
   "metadata": {},
   "outputs": [],
   "source": [
    "def calculate_rmse_and_predict(model, features, actual):\n",
    "    predicted = model.predict(features)\n",
    "    residuals = actual - predicted\n",
    "    rmse = np.sqrt(np.mean(residuals**2))\n",
    "    return rmse, predicted"
   ]
  },
  {
   "cell_type": "code",
   "execution_count": 4,
   "metadata": {},
   "outputs": [
    {
     "name": "stdout",
     "output_type": "stream",
     "text": [
      "Random Forest Test Accuracy: 0.7173756955663256\n"
     ]
    }
   ],
   "source": [
    "# Initialize the Random Forest Classifier\n",
    "rf_clf = RandomForestClassifier(random_state=42)\n",
    "\n",
    "# Train the classifier\n",
    "rf_clf.fit(features, target)\n",
    "\n",
    "# Predict on the test data\n",
    "rf_test_predictions = rf_clf.predict(test_features)\n",
    "\n",
    "# Calculate the accuracy\n",
    "rf_test_accuracy = accuracy_score(test_target, rf_test_predictions)\n",
    "print(f\"Random Forest Test Accuracy: {rf_test_accuracy}\")"
   ]
  },
  {
   "cell_type": "code",
   "execution_count": 5,
   "metadata": {},
   "outputs": [
    {
     "name": "stdout",
     "output_type": "stream",
     "text": [
      "Random Forest RMSE on test data: 0.5316242135509578\n",
      "Random Forest RMSE on validation data: 0.5297401319296363\n"
     ]
    }
   ],
   "source": [
    "# Calculate RMSE and predictions for test data\n",
    "rf_rmse_test, rf_test_predictions = calculate_rmse_and_predict(rf_clf, test_features, test_target)\n",
    "print(f\"Random Forest RMSE on test data: {rf_rmse_test}\")\n",
    "\n",
    "# Calculate RMSE and predictions for validation data\n",
    "rf_rmse_validation, rf_validation_predictions = calculate_rmse_and_predict(rf_clf, validation_features, validation_target)\n",
    "print(f\"Random Forest RMSE on validation data: {rf_rmse_validation}\")"
   ]
  },
  {
   "cell_type": "code",
   "execution_count": 6,
   "metadata": {},
   "outputs": [],
   "source": [
    "# Load existing model results\n",
    "with open('model_results.pkl', 'rb') as f:\n",
    "    model_results = pickle.load(f)\n",
    "\n",
    "# Update the model results with new data\n",
    "model_results['Random Forest'] = {\n",
    "    'Accuracy': rf_test_accuracy,\n",
    "    'RMSE (test set)': rf_rmse_test,\n",
    "    'RMSE (Val set)': rf_rmse_validation\n",
    "}\n",
    "\n",
    "# Save updated model results\n",
    "with open('model_results.pkl', 'wb') as f:\n",
    "    pickle.dump(model_results, f)\n"
   ]
  }
 ],
 "metadata": {
  "kernelspec": {
   "display_name": ".venv",
   "language": "python",
   "name": "python3"
  },
  "language_info": {
   "codemirror_mode": {
    "name": "ipython",
    "version": 3
   },
   "file_extension": ".py",
   "mimetype": "text/x-python",
   "name": "python",
   "nbconvert_exporter": "python",
   "pygments_lexer": "ipython3",
   "version": "3.12.6"
  }
 },
 "nbformat": 4,
 "nbformat_minor": 2
}
