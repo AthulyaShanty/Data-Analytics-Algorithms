{
 "cells": [
  {
   "cell_type": "code",
   "execution_count": 2,
   "metadata": {},
   "outputs": [],
   "source": [
    "import pickle\n",
    "import numpy as np\n",
    "from sklearn.metrics import accuracy_score\n",
    "from sklearn.naive_bayes import GaussianNB\n",
    "from sklearn.naive_bayes import BernoulliNB"
   ]
  },
  {
   "cell_type": "code",
   "execution_count": 3,
   "metadata": {},
   "outputs": [],
   "source": [
    "# Load the features\n",
    "with open('features.pkl', 'rb') as f:\n",
    "    features = pickle.load(f)\n",
    "\n",
    "# Load the target\n",
    "with open('target.pkl', 'rb') as f:\n",
    "    target = pickle.load(f)\n",
    "\n",
    "# Load the test features\n",
    "with open('test_features.pkl', 'rb') as f:\n",
    "    test_features = pickle.load(f)\n",
    "\n",
    "# Load the test target\n",
    "with open('test_target.pkl', 'rb') as f:\n",
    "    test_target = pickle.load(f)\n",
    "\n",
    "# Load the validation features\n",
    "with open('validation_features.pkl', 'rb') as f:\n",
    "    validation_features = pickle.load(f)\n",
    "\n",
    "# Load the validation target\n",
    "with open('validation_target.pkl', 'rb') as f:\n",
    "    validation_target = pickle.load(f)"
   ]
  },
  {
   "cell_type": "code",
   "execution_count": 4,
   "metadata": {},
   "outputs": [],
   "source": [
    "def calculate_rmse_and_predict(model, features, actual):\n",
    "    predicted = model.predict(features)\n",
    "    residuals = actual - predicted\n",
    "    rmse = np.sqrt(np.mean(residuals**2))\n",
    "    return rmse, predicted"
   ]
  },
  {
   "cell_type": "code",
   "execution_count": 5,
   "metadata": {},
   "outputs": [
    {
     "name": "stdout",
     "output_type": "stream",
     "text": [
      "GaussianNB Test Accuracy: 0.697092084006462\n",
      "GaussianNB Test RMSE: 0.5503707077902474\n",
      "GaussianNB Validation RMSE: 0.5423796785425802\n"
     ]
    }
   ],
   "source": [
    "# Initialize the Gaussian Naive Bayes model\n",
    "gnb_model = GaussianNB()\n",
    "\n",
    "# Train the model\n",
    "gnb_model.fit(features, target)\n",
    "\n",
    "# Calculate RMSE and predictions for the test set\n",
    "gnb_rmse_test, gnb_test_predictions = calculate_rmse_and_predict(gnb_model, test_features, test_target)\n",
    "\n",
    "# Calculate RMSE and predictions for the validation set\n",
    "gnb_rmse_validation, gnb_validation_predictions = calculate_rmse_and_predict(gnb_model, validation_features, validation_target)\n",
    "\n",
    "# Calculate accuracy for the test set\n",
    "gnb_test_accuracy = accuracy_score(test_target, gnb_test_predictions)\n",
    "\n",
    "# Print the results\n",
    "print(f\"GaussianNB Test Accuracy: {gnb_test_accuracy}\")\n",
    "print(f\"GaussianNB Test RMSE: {gnb_rmse_test}\")\n",
    "print(f\"GaussianNB Validation RMSE: {gnb_rmse_validation}\")\n"
   ]
  },
  {
   "cell_type": "code",
   "execution_count": 6,
   "metadata": {},
   "outputs": [],
   "source": [
    "with open('model_results.pkl', 'rb') as f:\n",
    "    model_results = pickle.load(f)\n",
    "    \n",
    "model_results['Naive Bayes (GaussianNB)'] = {\n",
    "    'Accuracy': gnb_test_accuracy, \n",
    "    'RMSE (test set)': gnb_rmse_test, \n",
    "    'RMSE (Val set)': gnb_rmse_validation}\n",
    "# Save updated model results\n",
    "with open('model_results.pkl', 'wb') as f:\n",
    "    pickle.dump(model_results, f)"
   ]
  },
  {
   "cell_type": "code",
   "execution_count": 7,
   "metadata": {},
   "outputs": [
    {
     "name": "stdout",
     "output_type": "stream",
     "text": [
      "BernoulliNB Test Accuracy: 0.6963740800574403\n",
      "BernoulliNB Test RMSE: 0.5510226129139889\n",
      "BernoulliNB Validation RMSE: 0.5461720131049644\n"
     ]
    }
   ],
   "source": [
    "# Initialize the Bernoulli Naive Bayes model\n",
    "bnb_model = BernoulliNB()\n",
    "\n",
    "# Train the model\n",
    "bnb_model.fit(features, target)\n",
    "\n",
    "# Calculate RMSE and predictions for the test set\n",
    "bnb_rmse_test, bnb_test_predictions = calculate_rmse_and_predict(bnb_model, test_features, test_target)\n",
    "\n",
    "# Calculate RMSE and predictions for the validation set\n",
    "bnb_rmse_validation, bnb_validation_predictions = calculate_rmse_and_predict(bnb_model, validation_features, validation_target)\n",
    "\n",
    "# Calculate accuracy for the test set\n",
    "bnb_test_accuracy = accuracy_score(test_target, bnb_test_predictions)\n",
    "\n",
    "# Print the results\n",
    "print(f\"BernoulliNB Test Accuracy: {bnb_test_accuracy}\")\n",
    "print(f\"BernoulliNB Test RMSE: {bnb_rmse_test}\")\n",
    "print(f\"BernoulliNB Validation RMSE: {bnb_rmse_validation}\")"
   ]
  },
  {
   "cell_type": "code",
   "execution_count": 8,
   "metadata": {},
   "outputs": [],
   "source": [
    "with open('model_results.pkl', 'rb') as f:\n",
    "    model_results = pickle.load(f)\n",
    "    \n",
    "model_results['Naive Bayes (BernoulliNB)'] = {\n",
    "    'Accuracy': bnb_test_accuracy, \n",
    "    'RMSE (test set)': bnb_rmse_test, \n",
    "    'RMSE (Val set)': bnb_rmse_validation}\n",
    "# Save updated model results\n",
    "with open('model_results.pkl', 'wb') as f:\n",
    "    pickle.dump(model_results, f)"
   ]
  }
 ],
 "metadata": {
  "kernelspec": {
   "display_name": ".venv",
   "language": "python",
   "name": "python3"
  },
  "language_info": {
   "codemirror_mode": {
    "name": "ipython",
    "version": 3
   },
   "file_extension": ".py",
   "mimetype": "text/x-python",
   "name": "python",
   "nbconvert_exporter": "python",
   "pygments_lexer": "ipython3",
   "version": "3.12.6"
  }
 },
 "nbformat": 4,
 "nbformat_minor": 2
}
